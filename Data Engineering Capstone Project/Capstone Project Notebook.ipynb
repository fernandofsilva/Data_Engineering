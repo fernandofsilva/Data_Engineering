{
 "cells": [
  {
   "cell_type": "markdown",
   "metadata": {},
   "source": [
    "# US Immigration Analysis\n",
    "\n",
    "### Project Summary\n",
    "The goal of this project is to analyze the distribution of the immigrants arrive at US."
   ]
  },
  {
   "cell_type": "markdown",
   "metadata": {},
   "source": [
    "#### Scope \n",
    "For the project use the following tools:\n",
    "- Spark and pandas for data handling\n",
    "- Matplotlib for vizualization\n",
    "\n",
    "### Datasets\n",
    "The project use the following datasets\n",
    "\n",
    "- **I94 Immigration Data**: This dataset contains international visitor arrival statistics by world regions and select countries (including top 20), type of visa, mode of transportation, age groups, states visited (first intended address only), and the top ports of entry (for select countries). <br>\n",
    "- **U.S. City Demographic Data**: This dataset contains information about the demographics of all US cities and census-designated places with a population greater or equal to 65,000. <br>\n",
    "- **Airport Code Table**: The airport codes may refer to either IATA airport code, a three-letter code which is used in passenger reservation, ticketing and baggage-handling systems, or the ICAO airport code which is a four letter code used by ATC systems and for airports that do not have an IATA airport code (from wikipedia).\n",
    "- **Dictionaries**: Contains the lables for the ids in the U.S. City Demographic Data. "
   ]
  },
  {
   "cell_type": "code",
   "execution_count": 70,
   "metadata": {},
   "outputs": [],
   "source": [
    "# Load librarie\n",
    "import pyspark\n",
    "from pyspark.sql.functions import expr, isnan, when, count, col\n",
    "\n",
    "# Initiate Spark Session\n",
    "spark = pyspark\\\n",
    "        .sql\\\n",
    "        .SparkSession\\\n",
    "        .builder\\\n",
    "        .config(\"spark.jars.packages\",\"saurfang:spark-sas7bdat:2.0.0-s_2.11\")\\\n",
    "        .enableHiveSupport()\\\n",
    "        .getOrCreate()\n",
    "\n",
    "# Read parquet data\n",
    "imm = spark.read.parquet(\"data_source/sas_data\")\n",
    "\n",
    "# Read csv data\n",
    "air = spark.read.csv(\"data_source/airport-codes_csv.csv\", header=True)\n",
    "cit = spark.read.csv(\"data_source/us-cities-demographics.csv\", sep=\";\", header=True)\n",
    "\n",
    "# Read dictionaries\n",
    "i94addr = spark.read.csv(\"data_source/i94addr.csv\", sep=\";\", header=True)\n",
    "i94mode = spark.read.csv(\"data_source/i94mode.csv\", sep=\";\", header=True)\n",
    "i94port = spark.read.csv(\"data_source/i94port.csv\", sep=\";\", header=True)\n",
    "i94visa = spark.read.csv(\"data_source/i94visa.csv\", sep=\";\", header=True)\n",
    "i94city = spark.read.csv(\"data_source/i94city.csv\", sep=\";\", header=True)"
   ]
  },
  {
   "cell_type": "markdown",
   "metadata": {},
   "source": [
    "### Data Exploration\n",
    "For the goal of the project, the focus is on the data related to the:\n",
    "- People arriving at US.\n",
    "    - Quantity\n",
    "    - Dates\n",
    "    - Transport Type\n",
    "    - Location\n",
    "    - Visa Type\n",
    "<br>\n",
    "<br>\n",
    "- Information about the cities\n",
    "    - State\n",
    "    - City\n",
    "    - Population"
   ]
  },
  {
   "cell_type": "code",
   "execution_count": 2,
   "metadata": {},
   "outputs": [
    {
     "name": "stdout",
     "output_type": "stream",
     "text": [
      "root\n",
      " |-- cicid: double (nullable = true)\n",
      " |-- i94yr: double (nullable = true)\n",
      " |-- i94mon: double (nullable = true)\n",
      " |-- i94cit: double (nullable = true)\n",
      " |-- i94res: double (nullable = true)\n",
      " |-- i94port: string (nullable = true)\n",
      " |-- arrdate: double (nullable = true)\n",
      " |-- i94mode: double (nullable = true)\n",
      " |-- i94addr: string (nullable = true)\n",
      " |-- depdate: double (nullable = true)\n",
      " |-- i94bir: double (nullable = true)\n",
      " |-- i94visa: double (nullable = true)\n",
      " |-- count: double (nullable = true)\n",
      " |-- dtadfile: string (nullable = true)\n",
      " |-- visapost: string (nullable = true)\n",
      " |-- occup: string (nullable = true)\n",
      " |-- entdepa: string (nullable = true)\n",
      " |-- entdepd: string (nullable = true)\n",
      " |-- entdepu: string (nullable = true)\n",
      " |-- matflag: string (nullable = true)\n",
      " |-- biryear: double (nullable = true)\n",
      " |-- dtaddto: string (nullable = true)\n",
      " |-- gender: string (nullable = true)\n",
      " |-- insnum: string (nullable = true)\n",
      " |-- airline: string (nullable = true)\n",
      " |-- admnum: double (nullable = true)\n",
      " |-- fltno: string (nullable = true)\n",
      " |-- visatype: string (nullable = true)\n",
      "\n"
     ]
    }
   ],
   "source": [
    "imm.printSchema()"
   ]
  },
  {
   "cell_type": "code",
   "execution_count": 3,
   "metadata": {},
   "outputs": [
    {
     "name": "stdout",
     "output_type": "stream",
     "text": [
      "root\n",
      " |-- ident: string (nullable = true)\n",
      " |-- type: string (nullable = true)\n",
      " |-- name: string (nullable = true)\n",
      " |-- elevation_ft: string (nullable = true)\n",
      " |-- continent: string (nullable = true)\n",
      " |-- iso_country: string (nullable = true)\n",
      " |-- iso_region: string (nullable = true)\n",
      " |-- municipality: string (nullable = true)\n",
      " |-- gps_code: string (nullable = true)\n",
      " |-- iata_code: string (nullable = true)\n",
      " |-- local_code: string (nullable = true)\n",
      " |-- coordinates: string (nullable = true)\n",
      "\n"
     ]
    }
   ],
   "source": [
    "air.printSchema()"
   ]
  },
  {
   "cell_type": "code",
   "execution_count": 4,
   "metadata": {},
   "outputs": [
    {
     "name": "stdout",
     "output_type": "stream",
     "text": [
      "root\n",
      " |-- City: string (nullable = true)\n",
      " |-- State: string (nullable = true)\n",
      " |-- Median Age: string (nullable = true)\n",
      " |-- Male Population: string (nullable = true)\n",
      " |-- Female Population: string (nullable = true)\n",
      " |-- Total Population: string (nullable = true)\n",
      " |-- Number of Veterans: string (nullable = true)\n",
      " |-- Foreign-born: string (nullable = true)\n",
      " |-- Average Household Size: string (nullable = true)\n",
      " |-- State Code: string (nullable = true)\n",
      " |-- Race: string (nullable = true)\n",
      " |-- Count: string (nullable = true)\n",
      "\n"
     ]
    }
   ],
   "source": [
    "cit.printSchema()"
   ]
  },
  {
   "cell_type": "markdown",
   "metadata": {},
   "source": [
    "### Check for Missing Values\n",
    "\n",
    "Check any missing values in the Immigration table"
   ]
  },
  {
   "cell_type": "code",
   "execution_count": 32,
   "metadata": {},
   "outputs": [
    {
     "name": "stdout",
     "output_type": "stream",
     "text": [
      "+-----+-----+------+------+------+-------+-------+-------+-------+-------+------+-------+-----+--------+--------+-----+-------+-------+-------+-------+-------+-------+------+------+-------+------+-----+--------+\n",
      "|cicid|i94yr|i94mon|i94cit|i94res|i94port|arrdate|i94mode|i94addr|depdate|i94bir|i94visa|count|dtadfile|visapost|occup|entdepa|entdepd|entdepu|matflag|biryear|dtaddto|gender|insnum|airline|admnum|fltno|visatype|\n",
      "+-----+-----+------+------+------+-------+-------+-------+-------+-------+------+-------+-----+--------+--------+-----+-------+-------+-------+-------+-------+-------+------+------+-------+------+-----+--------+\n",
      "|    0|    0|     0|     0|     0|      0|      0|      0|      0|      0|     0|      0|    0|       0|       0|    0|      0|      0|      0|      0|      0|      0|     0|     0|      0|     0|    0|       0|\n",
      "+-----+-----+------+------+------+-------+-------+-------+-------+-------+------+-------+-----+--------+--------+-----+-------+-------+-------+-------+-------+-------+------+------+-------+------+-----+--------+\n",
      "\n"
     ]
    }
   ],
   "source": [
    "imm.select([count(when(isnan(c), c)).alias(c) for c in imm.columns]).show()"
   ]
  },
  {
   "cell_type": "markdown",
   "metadata": {},
   "source": [
    "Remove rows with the values of the column i94addr are not in U.S. state list"
   ]
  },
  {
   "cell_type": "code",
   "execution_count": 71,
   "metadata": {},
   "outputs": [],
   "source": [
    "state = [\"AL\", \"AK\", \"AZ\", \"AR\", \"CA\", \"CO\", \"CT\", \"DE\", \"DC\", \"FL\", \"GA\", \"GU\", \"HI\", \"ID\", \"IL\", \"IN\", \"IA\", \"KS\",\n",
    "         \"KY\", \"LA\", \"ME\", \"MD\", \"MA\", \"MI\", \"MN\", \"MS\", \"MO\", \"MT\", \"NC\", \"ND\", \"NE\", \"NV\", \"NH\", \"NJ\", \"NM\", \"NY\",\n",
    "         \"OH\", \"OK\", \"OR\", \"PA\", \"PR\", \"RI\", \"SC\", \"SD\", \"TN\", \"TX\", \"UT\", \"VT\", \"VI\", \"VA\", \"WV\", \"WA\", \"WI\", \"WY\"]\n",
    "\n",
    "imm = imm.where(col(\"i94addr\").isin(state))"
   ]
  },
  {
   "cell_type": "markdown",
   "metadata": {},
   "source": [
    "Convert date coluns to correct format"
   ]
  },
  {
   "cell_type": "code",
   "execution_count": 72,
   "metadata": {},
   "outputs": [],
   "source": [
    "# Converting columns\n",
    "imm = imm.withColumn('arrdate', expr(\"date_add(to_date('1960-01-01'),arrdate)\"))\n",
    "imm = imm.withColumn('depdate', expr(\"date_add(to_date('1960-01-01'),depdate)\"))"
   ]
  },
  {
   "cell_type": "markdown",
   "metadata": {},
   "source": [
    "### Data Model\n",
    "#### Star Schema\n",
    "For the project it will be used the star schema, the star schema consists of one or more fact tables referencing any number of dimension tables.\n",
    "\n",
    "Dimension Tables\n",
    "- Aiport Codes Data\n",
    "- US Cities Data\n",
    "- i94addr (dictionary)\n",
    "- i94city (dictionary)\n",
    "- i94mode (dictionary)\n",
    "- i94mode (dictionary)\n",
    "- i94visa (dictionary)\n",
    "\n",
    "Fact Tables\n",
    "- Immigration Data"
   ]
  },
  {
   "cell_type": "markdown",
   "metadata": {},
   "source": [
    "### Pipelines\n",
    "#### Pipeline Immigration Distribuition\n",
    "The pipeline below is used for the analysis of the distributions of the immigrants"
   ]
  },
  {
   "cell_type": "code",
   "execution_count": 77,
   "metadata": {},
   "outputs": [
    {
     "name": "stdout",
     "output_type": "stream",
     "text": [
      "+----------+-------+-----------------+------------+\n",
      "|   arrdate|i94addr|            State|count(count)|\n",
      "+----------+-------+-----------------+------------+\n",
      "|2016-04-30|     MT|          MONTANA|          65|\n",
      "|2016-04-30|     NH|    NEW HAMPSHIRE|          93|\n",
      "|2016-04-30|     SD|        S. DAKOTA|          29|\n",
      "|2016-04-30|     FL|          FLORIDA|       25852|\n",
      "|2016-04-30|     MD|         MARYLAND|         884|\n",
      "|2016-04-30|     KS|           KANSAS|          76|\n",
      "|2016-04-30|     VA|         VIRGINIA|        1222|\n",
      "|2016-04-30|     ND|        N. DAKOTA|          55|\n",
      "|2016-04-30|     NM|       NEW MEXICO|         110|\n",
      "|2016-04-30|     WV|      W. VIRGINIA|          42|\n",
      "|2016-04-30|     GA|          GEORGIA|        1570|\n",
      "|2016-04-30|     DC|DIST. OF COLUMBIA|        1185|\n",
      "|2016-04-30|     ME|            MAINE|          83|\n",
      "|2016-04-30|     NJ|       NEW JERSEY|        2999|\n",
      "|2016-04-30|     IN|          INDIANA|         406|\n",
      "|2016-04-30|     CA|       CALIFORNIA|       19425|\n",
      "|2016-04-30|     PR|      PUERTO RICO|         312|\n",
      "|2016-04-30|     DE|         DELAWARE|         139|\n",
      "|2016-04-30|     AK|           ALASKA|          84|\n",
      "|2016-04-30|     NY|         NEW YORK|       20842|\n",
      "+----------+-------+-----------------+------------+\n",
      "only showing top 20 rows\n",
      "\n"
     ]
    }
   ],
   "source": [
    "# Merge the tables\n",
    "pipe = imm.join(i94addr,  [\"i94addr\"], how=\"left\")\n",
    "pipe = pipe.join(i94mode, [\"i94mode\"], how=\"left\")\n",
    "pipe = pipe.join(i94port, [\"i94port\"], how=\"left\")\n",
    "pipe = pipe.join(i94visa, [\"i94visa\"], how=\"left\")\n",
    "pipe = pipe.join(i94city, [\"i94cit\"], how=\"left\")\n",
    "\n",
    "# Group by State\n",
    "pipe = pipe.groupby([\"arrdate\", \"i94addr\", \"State\"]).agg({\"count\": \"count\"})\n",
    "\n",
    "# # Filter to print sample of data\n",
    "pipe.filter(pipe.arrdate == \"2016-04-30\").show()"
   ]
  },
  {
   "cell_type": "markdown",
   "metadata": {},
   "source": [
    "#### 4.2 Data Quality Checks\n",
    " \n",
    "Run Quality Checks to garanty the dataframe is not null"
   ]
  },
  {
   "cell_type": "code",
   "execution_count": 103,
   "metadata": {},
   "outputs": [
    {
     "name": "stdout",
     "output_type": "stream",
     "text": [
      "(1620, 4)\n"
     ]
    }
   ],
   "source": [
    "# Perform quality checks here\n",
    "print((pipe.count(), len(pipe.columns)))"
   ]
  },
  {
   "cell_type": "markdown",
   "metadata": {},
   "source": [
    "#### 4.3 Data dictionary \n",
    "\n",
    "Below the description to each column of the pipeline\n",
    "\n",
    "- arrdate: correspond to the arrive date of the passenger in U.S.\n",
    "- i94addr: abbreviation state\n",
    "- state: the state were the passenger arrive\n",
    "- count: the number of passenger in the state and date"
   ]
  },
  {
   "cell_type": "markdown",
   "metadata": {},
   "source": [
    "#### 4.4 Visualization\n",
    "\n",
    "Below a sample of visualization for the date 04/30/2016"
   ]
  },
  {
   "cell_type": "code",
   "execution_count": 101,
   "metadata": {},
   "outputs": [
    {
     "data": {
      "image/png": "[encoded data removed]",
      "text/plain": [
       "<matplotlib.figure.Figure at 0x7ff11444e940>"
      ]
     },
     "metadata": {
      "needs_background": "light"
     },
     "output_type": "display_data"
    }
   ],
   "source": [
    "# Load Libraries\n",
    "import matplotlib.pyplot as plt\n",
    "import pandas as pd\n",
    "import numpy as np\n",
    "\n",
    "data = pipe.filter(pipe.arrdate == \"2016-04-30\").select(\"*\").toPandas()\n",
    "\n",
    "objects = data[\"i94addr\"]\n",
    "y_pos = np.arange(len(objects))\n",
    "performance = data[\"count(count)\"]\n",
    "plt.figure(figsize=(18,8))\n",
    "\n",
    "plt.bar(y_pos, performance, align='center', alpha=0.5)\n",
    "plt.xticks(y_pos, objects)\n",
    "plt.ylabel(\"Passengers Count per State\")\n",
    "plt.xlabel(\"State\")\n",
    "plt.title(\"Count Passengers\")\n",
    "\n",
    "plt.show()"
   ]
  },
  {
   "cell_type": "markdown",
   "metadata": {},
   "source": [
    "#### Step 5: Complete Project Write Up\n",
    "* Clearly state the rationale for the choice of tools and technologies for the project.\n",
    "        - Spark was choosen due the volume of the data, it couldn't be handle by pandas\n",
    "* Propose how often the data should be updated and why.\n",
    "        - The pipeline should run daily and the aggregation were done by day, so it is possible to consult the historic\n",
    "* Write a description of how you would approach the problem differently under the following scenarios:\n",
    "    - The data was increased by 100x\n",
    "        - Spark can handle the increase the volume of the data\n",
    "    - The data populates a dashboard that must be updated on a daily basis by 7am every day.\n",
    "        - The pipeline can be schedule for any time\n",
    "    - The database needed to be accessed by 100+ people.\n",
    "        - The data is handled by spark can be saved on a redshift and accessed by 100+ people"
   ]
  }
 ],
 "metadata": {
  "kernelspec": {
   "display_name": "Python 3",
   "language": "python",
   "name": "python3"
  },
  "language_info": {
   "codemirror_mode": {
    "name": "ipython",
    "version": 3
   },
   "file_extension": ".py",
   "mimetype": "text/x-python",
   "name": "python",
   "nbconvert_exporter": "python",
   "pygments_lexer": "ipython3",
   "version": "3.6.3"
  }
 },
 "nbformat": 4,
 "nbformat_minor": 2
}
